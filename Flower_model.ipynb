{
  "nbformat": 4,
  "nbformat_minor": 0,
  "metadata": {
    "colab": {
      "name": "Flower-model.ipynb",
      "version": "0.3.2",
      "provenance": [],
      "collapsed_sections": []
    },
    "kernelspec": {
      "name": "python3",
      "display_name": "Python 3"
    },
    "accelerator": "GPU"
  },
  "cells": [
    {
      "cell_type": "markdown",
      "metadata": {
        "id": "eeg62SwUurP9",
        "colab_type": "text"
      },
      "source": [
        "# Red Neuronal Convolutiva. Clasificación de flores\n",
        "\n",
        "En este proyecto construimos una red neuronal siguiendo una arquitectura convolutiva, para poder discernir entre 5 clases distintas de flores (rosas, margaritas, dientes de león, tulipanes y girasoles).\n",
        "\n",
        "El *dataset* utilizado pertenece a Alexander Mamaev, descargado de [aquí](https://www.kaggle.com/alxmamaev/flowers-recognition)  y con uso libre según el mismo autor.\n",
        "\n",
        "Como se ha comentado, el uso de una arquitectura de red convolutiva permite analizar las imágenes gracias a "
      ]
    },
    {
      "cell_type": "markdown",
      "metadata": {
        "id": "Un3u25-pzi1J",
        "colab_type": "text"
      },
      "source": [
        "## Conexión con Google Drive para acceso al DataSet"
      ]
    },
    {
      "cell_type": "code",
      "metadata": {
        "id": "GpgBE66hXYyx",
        "colab_type": "code",
        "outputId": "c96521aa-990b-4a6a-91df-03e65bce6a86",
        "colab": {
          "base_uri": "https://localhost:8080/",
          "height": 122
        }
      },
      "source": [
        "from google.colab import drive\n",
        "drive.mount('/content/drive', force_remount=True)"
      ],
      "execution_count": 1,
      "outputs": [
        {
          "output_type": "stream",
          "text": [
            "Go to this URL in a browser: https://accounts.google.com/o/oauth2/auth?client_id=947318989803-6bn6qk8qdgf4n4g3pfee6491hc0brc4i.apps.googleusercontent.com&redirect_uri=urn%3Aietf%3Awg%3Aoauth%3A2.0%3Aoob&scope=email%20https%3A%2F%2Fwww.googleapis.com%2Fauth%2Fdocs.test%20https%3A%2F%2Fwww.googleapis.com%2Fauth%2Fdrive%20https%3A%2F%2Fwww.googleapis.com%2Fauth%2Fdrive.photos.readonly%20https%3A%2F%2Fwww.googleapis.com%2Fauth%2Fpeopleapi.readonly&response_type=code\n",
            "\n",
            "Enter your authorization code:\n",
            "··········\n",
            "Mounted at /content/drive\n"
          ],
          "name": "stdout"
        }
      ]
    },
    {
      "cell_type": "markdown",
      "metadata": {
        "id": "pzj7pmLew4Zu",
        "colab_type": "text"
      },
      "source": [
        "## Preparación del dataset\n",
        "\n",
        "Importamos todas las clases necesarias. Se utilizará la API Keras junto con TensorFlow como backend.\n",
        "\n",
        "Hemos establecido un diccionario con los hiperparámetros que afinar una vez modelada la red. Se podrá en el futuro hacer uso de una librería como [Talos](https://github.com/autonomio/talos) para optimizar los mismos, pero hoy en día (18.05.19) no es capaz de trabajar con la función **fit_generator** de Keras para ejecutar el modelo.\n",
        "\n",
        "Gracias a la clase **ImageDataGenerator** de Keras, podemos aumentar nuestro dataset de entrenamiento a base de aplicar funciones como rotación o volteo. Al final de las transformaciones se aplica un factor de división (255) para hacer que los valores RGB de cada canal tengan un rango \\[0 - 1]. En el caso de las imágenes de validación, sólo se le aplica ésto último."
      ]
    },
    {
      "cell_type": "code",
      "metadata": {
        "id": "mCE7cHyvwTlg",
        "colab_type": "code",
        "outputId": "e6ddba03-8c48-47d0-e828-f1e262d7a998",
        "colab": {
          "base_uri": "https://localhost:8080/",
          "height": 51
        }
      },
      "source": [
        "from keras.preprocessing.image import ImageDataGenerator\n",
        "from keras.models import Sequential\n",
        "from keras.layers import Dense, Dropout, Flatten, Conv2D, MaxPooling2D\n",
        "from keras.optimizers import Adadelta\n",
        "from keras.activations import softmax\n",
        "from keras.losses import categorical_crossentropy\n",
        "import keras\n",
        "#import talos\n",
        "\n",
        "# Hyperparameters. Not all of them all strictly hp, but for ease of use are\n",
        "# concentrated here.\n",
        "hp = {\n",
        "    'img_height':200,\n",
        "    'img_length':200,\n",
        "    'img_channels':3, # RGB Channels\n",
        "    'activation':'relu', # Rectified Linear Unit\n",
        "    'last_layer_nodes': 5, # Number of final categories\n",
        "    'last_activation':'softmax', # One-hot encoding\n",
        "    'optimizer': Adadelta(), # Improved Adagrad, it keeps learning no matters any update\n",
        "    'loss': categorical_crossentropy,\n",
        "    'batch_size': 32,\n",
        "    'epochs': 10\n",
        "}\n",
        "\n",
        "# Data Sources\n",
        "train_data_dir = '/content/drive/My Drive/colab-notebooks/datasets/FlowersDS/train'\n",
        "validation_data_dir = '/content/drive/My Drive/colab-notebooks/datasets/FlowersDS/validation'\n",
        "\n",
        "\n",
        "# DATA GENERATION -----------------------------------------\n",
        "\n",
        "train_datagen = ImageDataGenerator(\n",
        "    rescale=1./255,\n",
        "    shear_range=0.2,\n",
        "    rotation_range=10,\n",
        "    zoom_range=0.2,\n",
        "    horizontal_flip=True, # Randomly flip inputs horizontally\n",
        "    vertical_flip=False # or vertically. \n",
        ")\n",
        "\n",
        "validation_datagen = ImageDataGenerator(rescale=1./255)\n",
        "\n",
        "\n",
        "train_generator = train_datagen.flow_from_directory(\n",
        "    train_data_dir,\n",
        "    target_size=(hp['img_length'], hp['img_height']),\n",
        "    batch_size=hp['batch_size'],\n",
        "    class_mode='categorical'\n",
        ")\n",
        "\n",
        "validation_generator = validation_datagen.flow_from_directory(\n",
        "    validation_data_dir,\n",
        "    target_size=(hp['img_length'], hp['img_height']),\n",
        "    batch_size=hp['batch_size'],\n",
        "    class_mode='categorical'\n",
        ")"
      ],
      "execution_count": 16,
      "outputs": [
        {
          "output_type": "stream",
          "text": [
            "Found 3000 images belonging to 5 classes.\n",
            "Found 500 images belonging to 5 classes.\n"
          ],
          "name": "stdout"
        }
      ]
    },
    {
      "cell_type": "markdown",
      "metadata": {
        "id": "jogHAU_6zemK",
        "colab_type": "text"
      },
      "source": [
        "## Definición del Modelo de Red Neuronal Convolutiva\n",
        "\n",
        "Definimos un modelo secuencial formado por 4 capas **convolutivas** para abstraer todas las características importantes de cada imagen. \n",
        "\n",
        "Con el objetivo de disminuir la carga de cómputo, a cada una de las convolutivas le sigue una capa de **agrupación** (pooling), para disminuir los datos a la mitad (malla de 2x2).\n",
        "\n",
        "Con el objetivo de evitar el sobreajuste (overfitting), se colocan también dos capas **dropout**, para \"congelar\" los pesos de neuronas aleatorias durante sólo el entrenamiento.\n",
        "\n",
        "Por último, se aplica una capa para \"aplanar\" (**flatten**) el tensor tridimensional de salida de las capas convolutivas a un vector para poder ser procesada por dos capas fully-connected (**dense**), teniendo la última una función de activación *softmax* para obtener una salida con formato *one-hot* (vector de probabilidades unitarias). "
      ]
    },
    {
      "cell_type": "code",
      "metadata": {
        "id": "DpauxJ1sXfJa",
        "colab_type": "code",
        "outputId": "55e75936-e377-4b24-aa51-b9e5755cd7c6",
        "colab": {
          "base_uri": "https://localhost:8080/",
          "height": 510
        }
      },
      "source": [
        "# MODEL DEFINITION -----------------------------------------\n",
        "\n",
        "def flower_model(train_generator, validation_generator, hp):\n",
        "  \n",
        "  model = Sequential()\n",
        "  \n",
        "  model.add(Conv2D(filters = 32, \n",
        "                   kernel_size = (3, 3),\n",
        "                   activation = hp['activation'],\n",
        "                   input_shape = (hp['img_length'], hp['img_height'], hp['img_channels'])))\n",
        "  model.add(MaxPooling2D(2))\n",
        "  \n",
        "  model.add(Conv2D(64, 3, activation = hp['activation']))\n",
        "  model.add(MaxPooling2D(2))\n",
        "  \n",
        "  model.add(Conv2D(128, 3, activation = hp['activation']))\n",
        "  model.add(MaxPooling2D(2))\n",
        "  \n",
        "  model.add(Conv2D(128, 3, activation = hp['activation']))\n",
        "  model.add(MaxPooling2D(2))\n",
        "  \n",
        "  model.add(Dropout(0.25))\n",
        "  \n",
        "  model.add(Flatten())\n",
        "  model.add(Dense(32, activation=hp['activation']))\n",
        "  \n",
        "  model.add(Dropout(0.5))\n",
        "  \n",
        "  model.add(Dense(hp['last_layer_nodes'], activation=hp['last_activation']))\n",
        "  \n",
        "  model.compile(loss=hp['loss'], \n",
        "                       optimizer=hp['optimizer'],\n",
        "                       metrics=['accuracy'])\n",
        "  return model\n",
        "\n",
        "# Start Model\n",
        "\n",
        "flower_model = flower_model(train_generator, validation_generator, hp)\n",
        "\n",
        "flower_model.summary()"
      ],
      "execution_count": 18,
      "outputs": [
        {
          "output_type": "stream",
          "text": [
            "_________________________________________________________________\n",
            "Layer (type)                 Output Shape              Param #   \n",
            "=================================================================\n",
            "conv2d_37 (Conv2D)           (None, 148, 148, 32)      896       \n",
            "_________________________________________________________________\n",
            "conv2d_38 (Conv2D)           (None, 146, 146, 64)      18496     \n",
            "_________________________________________________________________\n",
            "conv2d_39 (Conv2D)           (None, 144, 144, 128)     73856     \n",
            "_________________________________________________________________\n",
            "max_pooling2d_18 (MaxPooling (None, 72, 72, 128)       0         \n",
            "_________________________________________________________________\n",
            "conv2d_40 (Conv2D)           (None, 70, 70, 128)       147584    \n",
            "_________________________________________________________________\n",
            "max_pooling2d_19 (MaxPooling (None, 35, 35, 128)       0         \n",
            "_________________________________________________________________\n",
            "dropout_19 (Dropout)         (None, 35, 35, 128)       0         \n",
            "_________________________________________________________________\n",
            "flatten_10 (Flatten)         (None, 156800)            0         \n",
            "_________________________________________________________________\n",
            "dense_19 (Dense)             (None, 16)                2508816   \n",
            "_________________________________________________________________\n",
            "dropout_20 (Dropout)         (None, 16)                0         \n",
            "_________________________________________________________________\n",
            "dense_20 (Dense)             (None, 5)                 85        \n",
            "=================================================================\n",
            "Total params: 2,749,733\n",
            "Trainable params: 2,749,733\n",
            "Non-trainable params: 0\n",
            "_________________________________________________________________\n"
          ],
          "name": "stdout"
        }
      ]
    },
    {
      "cell_type": "markdown",
      "metadata": {
        "id": "ddNkR8oswedJ",
        "colab_type": "text"
      },
      "source": [
        "## Ejecución del Modelo"
      ]
    },
    {
      "cell_type": "code",
      "metadata": {
        "id": "JWtHfieNKu37",
        "colab_type": "code",
        "outputId": "0ceafd9a-fe85-496c-e9a6-809777116e40",
        "colab": {
          "base_uri": "https://localhost:8080/",
          "height": 357
        }
      },
      "source": [
        "# MODEL EXECUTION -----------------------------------------\n",
        "\n",
        "def exec_model(model):\n",
        "  return model.fit_generator(\n",
        "      train_generator,\n",
        "      steps_per_epoch=100,\n",
        "      epochs=hp['epochs'], \n",
        "      validation_data=validation_generator,\n",
        "      validation_steps=200\n",
        "  )\n",
        "  \n",
        "flower_result = exec_model(flower_model)"
      ],
      "execution_count": 19,
      "outputs": [
        {
          "output_type": "stream",
          "text": [
            "Epoch 1/10\n",
            "100/100 [==============================] - 59s 591ms/step - loss: 1.5592 - acc: 0.2979 - val_loss: 1.3681 - val_acc: 0.4102\n",
            "Epoch 2/10\n",
            "100/100 [==============================] - 56s 561ms/step - loss: 1.4218 - acc: 0.3888 - val_loss: 1.1770 - val_acc: 0.5125\n",
            "Epoch 3/10\n",
            "100/100 [==============================] - 54s 539ms/step - loss: 1.3123 - acc: 0.4421 - val_loss: 1.1381 - val_acc: 0.5472\n",
            "Epoch 4/10\n",
            "100/100 [==============================] - 54s 537ms/step - loss: 1.2424 - acc: 0.4822 - val_loss: 1.0780 - val_acc: 0.5317\n",
            "Epoch 5/10\n",
            "100/100 [==============================] - 54s 543ms/step - loss: 1.1975 - acc: 0.5088 - val_loss: 1.2442 - val_acc: 0.5254\n",
            "Epoch 6/10\n",
            "100/100 [==============================] - 54s 536ms/step - loss: 1.1373 - acc: 0.5335 - val_loss: 1.1077 - val_acc: 0.6214\n",
            "Epoch 7/10\n",
            "100/100 [==============================] - 54s 538ms/step - loss: 1.1054 - acc: 0.5592 - val_loss: 0.9484 - val_acc: 0.6472\n",
            "Epoch 8/10\n",
            "100/100 [==============================] - 55s 552ms/step - loss: 1.0877 - acc: 0.5692 - val_loss: 1.0054 - val_acc: 0.6429\n",
            "Epoch 9/10\n",
            "100/100 [==============================] - 53s 535ms/step - loss: 1.0899 - acc: 0.5451 - val_loss: 0.9512 - val_acc: 0.6619\n",
            "Epoch 10/10\n",
            "100/100 [==============================] - 53s 529ms/step - loss: 1.0214 - acc: 0.5894 - val_loss: 0.9248 - val_acc: 0.6413\n"
          ],
          "name": "stdout"
        }
      ]
    },
    {
      "cell_type": "markdown",
      "metadata": {
        "id": "sjzrAQRzzbUJ",
        "colab_type": "text"
      },
      "source": [
        "## Generación de Gráficos\n",
        "\n",
        " Tras obtener los resultados, construimos gracias a la librería [Matplotlib](https://matplotlib.org/index.html) y su módulo **pyplot** unas gráficas que nos permiten interpretar mejor los valores de precisión y pérdida en las fases de entrenamiento y validación."
      ]
    },
    {
      "cell_type": "code",
      "metadata": {
        "id": "agHLER4IXfAs",
        "colab_type": "code",
        "outputId": "62b00802-f6fe-4d3d-8969-d2b7b4aa4d30",
        "colab": {
          "base_uri": "https://localhost:8080/",
          "height": 370
        }
      },
      "source": [
        "import matplotlib.pyplot as plt\n",
        "\n",
        "fig, axs = plt.subplots(1, 2, figsize=(20, 5), sharex=True)\n",
        "fig.suptitle('Categorical Flower Model')\n",
        "\n",
        "axs[0].set_title(\"Accuracy\")\n",
        "axs[0].set_xlabel(\"Epochs\")\n",
        "axs[0].set_ylabel(\"% Accu.\")\n",
        "axs[0].plot(flower_result.history['acc'], label='acc')\n",
        "axs[0].plot(flower_result.history['val_acc'], label='val_acc')\n",
        "\n",
        "\n",
        "axs[1].set_title(\"Loss\")\n",
        "axs[1].set_xlabel(\"Epochs\")\n",
        "axs[1].set_ylabel(\"% Loss\")\n",
        "axs[1].plot(flower_result.history['loss'], label='loss')\n",
        "axs[1].plot(flower_result.history['val_loss'], label='val_loss')\n",
        "\n",
        "plt.show()\n"
      ],
      "execution_count": 20,
      "outputs": [
        {
          "output_type": "display_data",
          "data": {
            "image/png": "[encoded data removed]",
            "text/plain": [
              "<Figure size 1440x360 with 2 Axes>"
            ]
          },
          "metadata": {
            "tags": []
          }
        }
      ]
    },
    {
      "cell_type": "markdown",
      "metadata": {
        "id": "V6NfNdBjwjl-",
        "colab_type": "text"
      },
      "source": [
        "## Conclusión\n",
        "\n",
        "  Por ahora, la red no tiene unos índices de precisión aceptables. Existen varios motivos, siendo el más importante la propia estructura de la red, que no es capaz de discernir bien cuáles son las características más relevantes de cada imagen. También influye el propio conjunto de datos, que no siempre refleja una flor sino una escena con varias de ellas o en estados poco distinguibles.\n",
        "  \n",
        "  En otras ejecuciones más largas (con mayor número de capas y parámetros), se han obtenido valores de entre el 70-75% de precisión en el conjunto de validación, aunque sufriendo graves problemas de overfitting. Se diagnosticó al observar una precisión en el entrenamiento del 80-85%, que se traduce en que el modelo se comporta bien con unos datos, pero no es capaz de generalizar correctamente.\n",
        "  \n",
        "  Se seguirá mejorando el modelo a base, sobretodo, ¡del aprendizaje del propio autor!\n",
        "  \n",
        "---\n",
        "\n"
      ]
    }
  ]
}